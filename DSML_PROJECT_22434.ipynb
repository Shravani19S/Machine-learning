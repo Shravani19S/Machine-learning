{
 "cells": [
  {
   "cell_type": "markdown",
   "metadata": {},
   "source": [
    "# DSML Project"
   ]
  },
  {
   "cell_type": "markdown",
   "metadata": {},
   "source": [
    "# Name: Shravani Kiran Sonawane\n",
    "# Class: SE               \n",
    "# Roll No: 22434"
   ]
  },
  {
   "cell_type": "markdown",
   "metadata": {},
   "source": [
    "# Problem Statement:\n",
    "\n",
    "# RESEARCH ON PSYCOLOGICAL EFFECTS OF COVID19 AND     CLASSIFICATION\n",
    "\n",
    "## The dataset was collected with the help of Google Forms. The data contains answers to various questions provided by people. Most of the questions in the form were provided as multiple choice to avoid any case sensitive issues. \n",
    "## Objective: Classification of individuals based on lifestyle changes Let's consider that a person has significantly changed their lifestyle if they have experienced an increase or decrease of more than 0.5 in at least one of the following variables: prod_inc, sleep_bal, new_skill, fam_connect, relaxed, and self_time. Create a new binary variable named lifestyle_change where 1 represents a significant lifestyle change and 0 represents no significant lifestyle change.\n",
    "## Write a full research paper with detailed description."
   ]
  },
  {
   "cell_type": "markdown",
   "metadata": {},
   "source": [
    "# Importing"
   ]
  },
  {
   "cell_type": "code",
   "execution_count": 1,
   "metadata": {
    "execution": {
     "iopub.execute_input": "2023-07-30T07:15:51.495278Z",
     "iopub.status.busy": "2023-07-30T07:15:51.494834Z",
     "iopub.status.idle": "2023-07-30T07:15:51.512309Z",
     "shell.execute_reply": "2023-07-30T07:15:51.51092Z",
     "shell.execute_reply.started": "2023-07-30T07:15:51.495244Z"
    }
   },
   "outputs": [],
   "source": [
    "import numpy as np # linear algebra\n",
    "import pandas as pd # data processing, CSV file I/O (e.g. pd.read_csv)\n",
    "\n",
    "import os\n",
    "for dirname, _, filenames in os.walk('/kaggle/input'):\n",
    "    for filename in filenames:\n",
    "        print(os.path.join(dirname, filename))"
   ]
  },
  {
   "cell_type": "code",
   "execution_count": 2,
   "metadata": {
    "execution": {
     "iopub.execute_input": "2023-07-30T07:15:51.531005Z",
     "iopub.status.busy": "2023-07-30T07:15:51.530552Z",
     "iopub.status.idle": "2023-07-30T07:15:51.53964Z",
     "shell.execute_reply": "2023-07-30T07:15:51.538378Z",
     "shell.execute_reply.started": "2023-07-30T07:15:51.53097Z"
    }
   },
   "outputs": [],
   "source": [
    "import matplotlib.pyplot as plt\n",
    "import seaborn as sns\n",
    "\n",
    "pd.set_option('display.max_columns', None)\n",
    "plt.style.use(style='ggplot')\n",
    "%matplotlib inline"
   ]
  },
  {
   "cell_type": "code",
   "execution_count": 3,
   "metadata": {
    "execution": {
     "iopub.execute_input": "2023-07-30T07:15:51.546883Z",
     "iopub.status.busy": "2023-07-30T07:15:51.546122Z",
     "iopub.status.idle": "2023-07-30T07:15:51.573581Z",
     "shell.execute_reply": "2023-07-30T07:15:51.572038Z",
     "shell.execute_reply.started": "2023-07-30T07:15:51.546837Z"
    }
   },
   "outputs": [],
   "source": [
    "df=pd.read_csv('psyco.csv')"
   ]
  },
  {
   "cell_type": "code",
   "execution_count": 4,
   "metadata": {
    "execution": {
     "iopub.execute_input": "2023-07-30T07:15:51.949449Z",
     "iopub.status.busy": "2023-07-30T07:15:51.948193Z",
     "iopub.status.idle": "2023-07-30T07:15:51.978622Z",
     "shell.execute_reply": "2023-07-30T07:15:51.97734Z",
     "shell.execute_reply.started": "2023-07-30T07:15:51.949405Z"
    }
   },
   "outputs": [
    {
     "data": {
      "text/html": [
       "<div>\n",
       "<style scoped>\n",
       "    .dataframe tbody tr th:only-of-type {\n",
       "        vertical-align: middle;\n",
       "    }\n",
       "\n",
       "    .dataframe tbody tr th {\n",
       "        vertical-align: top;\n",
       "    }\n",
       "\n",
       "    .dataframe thead th {\n",
       "        text-align: right;\n",
       "    }\n",
       "</style>\n",
       "<table border=\"1\" class=\"dataframe\">\n",
       "  <thead>\n",
       "    <tr style=\"text-align: right;\">\n",
       "      <th></th>\n",
       "      <th>age</th>\n",
       "      <th>gender</th>\n",
       "      <th>occupation</th>\n",
       "      <th>line_of_work</th>\n",
       "      <th>time_bp</th>\n",
       "      <th>time_dp</th>\n",
       "      <th>travel_time</th>\n",
       "      <th>easeof_online</th>\n",
       "      <th>home_env</th>\n",
       "      <th>prod_inc</th>\n",
       "      <th>sleep_bal</th>\n",
       "      <th>new_skill</th>\n",
       "      <th>fam_connect</th>\n",
       "      <th>relaxed</th>\n",
       "      <th>self_time</th>\n",
       "      <th>like_hw</th>\n",
       "      <th>dislike_hw</th>\n",
       "      <th>prefer</th>\n",
       "      <th>certaindays_hw</th>\n",
       "      <th>Unnamed: 19</th>\n",
       "      <th>time_bp.1</th>\n",
       "      <th>travel+work</th>\n",
       "    </tr>\n",
       "  </thead>\n",
       "  <tbody>\n",
       "    <tr>\n",
       "      <th>0</th>\n",
       "      <td>19-25</td>\n",
       "      <td>Male</td>\n",
       "      <td>Student in College</td>\n",
       "      <td>NaN</td>\n",
       "      <td>7</td>\n",
       "      <td>5</td>\n",
       "      <td>0.5</td>\n",
       "      <td>3</td>\n",
       "      <td>3</td>\n",
       "      <td>0.0</td>\n",
       "      <td>0.0</td>\n",
       "      <td>0.5</td>\n",
       "      <td>1.0</td>\n",
       "      <td>-0.5</td>\n",
       "      <td>-0.5</td>\n",
       "      <td>100</td>\n",
       "      <td>1</td>\n",
       "      <td>Complete Physical Attendance</td>\n",
       "      <td>Yes</td>\n",
       "      <td>NaN</td>\n",
       "      <td>7</td>\n",
       "      <td>NaN</td>\n",
       "    </tr>\n",
       "    <tr>\n",
       "      <th>1</th>\n",
       "      <td>Dec-18</td>\n",
       "      <td>Male</td>\n",
       "      <td>Student in School</td>\n",
       "      <td>NaN</td>\n",
       "      <td>7</td>\n",
       "      <td>11</td>\n",
       "      <td>0.5</td>\n",
       "      <td>4</td>\n",
       "      <td>2</td>\n",
       "      <td>-0.5</td>\n",
       "      <td>0.5</td>\n",
       "      <td>-1.0</td>\n",
       "      <td>1.0</td>\n",
       "      <td>1.0</td>\n",
       "      <td>1.0</td>\n",
       "      <td>1111</td>\n",
       "      <td>1110</td>\n",
       "      <td>Complete Physical Attendance</td>\n",
       "      <td>No</td>\n",
       "      <td>NaN</td>\n",
       "      <td>7</td>\n",
       "      <td>NaN</td>\n",
       "    </tr>\n",
       "    <tr>\n",
       "      <th>2</th>\n",
       "      <td>19-25</td>\n",
       "      <td>Male</td>\n",
       "      <td>Student in College</td>\n",
       "      <td>NaN</td>\n",
       "      <td>7</td>\n",
       "      <td>7</td>\n",
       "      <td>1.5</td>\n",
       "      <td>2</td>\n",
       "      <td>2</td>\n",
       "      <td>1.0</td>\n",
       "      <td>0.0</td>\n",
       "      <td>0.5</td>\n",
       "      <td>0.5</td>\n",
       "      <td>0.5</td>\n",
       "      <td>0.5</td>\n",
       "      <td>1100</td>\n",
       "      <td>111</td>\n",
       "      <td>Complete Physical Attendance</td>\n",
       "      <td>Yes</td>\n",
       "      <td>NaN</td>\n",
       "      <td>7</td>\n",
       "      <td>NaN</td>\n",
       "    </tr>\n",
       "    <tr>\n",
       "      <th>3</th>\n",
       "      <td>19-25</td>\n",
       "      <td>Male</td>\n",
       "      <td>Student in College</td>\n",
       "      <td>NaN</td>\n",
       "      <td>7</td>\n",
       "      <td>7</td>\n",
       "      <td>1.5</td>\n",
       "      <td>3</td>\n",
       "      <td>1</td>\n",
       "      <td>0.0</td>\n",
       "      <td>1.0</td>\n",
       "      <td>0.5</td>\n",
       "      <td>0.0</td>\n",
       "      <td>-1.0</td>\n",
       "      <td>-0.5</td>\n",
       "      <td>100</td>\n",
       "      <td>1111</td>\n",
       "      <td>Complete Physical Attendance</td>\n",
       "      <td>Yes</td>\n",
       "      <td>NaN</td>\n",
       "      <td>7</td>\n",
       "      <td>NaN</td>\n",
       "    </tr>\n",
       "    <tr>\n",
       "      <th>4</th>\n",
       "      <td>19-25</td>\n",
       "      <td>Female</td>\n",
       "      <td>Student in College</td>\n",
       "      <td>NaN</td>\n",
       "      <td>7</td>\n",
       "      <td>7</td>\n",
       "      <td>1.5</td>\n",
       "      <td>2</td>\n",
       "      <td>2</td>\n",
       "      <td>0.0</td>\n",
       "      <td>0.0</td>\n",
       "      <td>0.0</td>\n",
       "      <td>0.0</td>\n",
       "      <td>0.5</td>\n",
       "      <td>0.0</td>\n",
       "      <td>1010</td>\n",
       "      <td>1000</td>\n",
       "      <td>Complete Physical Attendance</td>\n",
       "      <td>Yes</td>\n",
       "      <td>NaN</td>\n",
       "      <td>7</td>\n",
       "      <td>NaN</td>\n",
       "    </tr>\n",
       "  </tbody>\n",
       "</table>\n",
       "</div>"
      ],
      "text/plain": [
       "      age  gender          occupation line_of_work  time_bp  time_dp  \\\n",
       "0   19-25    Male  Student in College          NaN        7        5   \n",
       "1  Dec-18    Male   Student in School          NaN        7       11   \n",
       "2   19-25    Male  Student in College          NaN        7        7   \n",
       "3   19-25    Male  Student in College          NaN        7        7   \n",
       "4   19-25  Female  Student in College          NaN        7        7   \n",
       "\n",
       "   travel_time  easeof_online  home_env  prod_inc  sleep_bal  new_skill  \\\n",
       "0          0.5              3         3       0.0        0.0        0.5   \n",
       "1          0.5              4         2      -0.5        0.5       -1.0   \n",
       "2          1.5              2         2       1.0        0.0        0.5   \n",
       "3          1.5              3         1       0.0        1.0        0.5   \n",
       "4          1.5              2         2       0.0        0.0        0.0   \n",
       "\n",
       "   fam_connect  relaxed  self_time  like_hw  dislike_hw  \\\n",
       "0          1.0     -0.5       -0.5      100           1   \n",
       "1          1.0      1.0        1.0     1111        1110   \n",
       "2          0.5      0.5        0.5     1100         111   \n",
       "3          0.0     -1.0       -0.5      100        1111   \n",
       "4          0.0      0.5        0.0     1010        1000   \n",
       "\n",
       "                         prefer certaindays_hw  Unnamed: 19  time_bp.1  \\\n",
       "0  Complete Physical Attendance            Yes          NaN          7   \n",
       "1  Complete Physical Attendance             No          NaN          7   \n",
       "2  Complete Physical Attendance            Yes          NaN          7   \n",
       "3  Complete Physical Attendance            Yes          NaN          7   \n",
       "4  Complete Physical Attendance            Yes          NaN          7   \n",
       "\n",
       "   travel+work  \n",
       "0          NaN  \n",
       "1          NaN  \n",
       "2          NaN  \n",
       "3          NaN  \n",
       "4          NaN  "
      ]
     },
     "execution_count": 4,
     "metadata": {},
     "output_type": "execute_result"
    }
   ],
   "source": [
    "df.head()"
   ]
  },
  {
   "cell_type": "code",
   "execution_count": 5,
   "metadata": {
    "execution": {
     "iopub.execute_input": "2023-07-30T07:15:51.985406Z",
     "iopub.status.busy": "2023-07-30T07:15:51.984317Z",
     "iopub.status.idle": "2023-07-30T07:15:52.013524Z",
     "shell.execute_reply": "2023-07-30T07:15:52.012453Z",
     "shell.execute_reply.started": "2023-07-30T07:15:51.985363Z"
    }
   },
   "outputs": [
    {
     "name": "stdout",
     "output_type": "stream",
     "text": [
      "<class 'pandas.core.frame.DataFrame'>\n",
      "RangeIndex: 1175 entries, 0 to 1174\n",
      "Data columns (total 22 columns):\n",
      " #   Column          Non-Null Count  Dtype  \n",
      "---  ------          --------------  -----  \n",
      " 0   age             1175 non-null   object \n",
      " 1   gender          1175 non-null   object \n",
      " 2   occupation      1175 non-null   object \n",
      " 3   line_of_work    479 non-null    object \n",
      " 4   time_bp         1175 non-null   int64  \n",
      " 5   time_dp         1175 non-null   int64  \n",
      " 6   travel_time     1175 non-null   float64\n",
      " 7   easeof_online   1175 non-null   int64  \n",
      " 8   home_env        1175 non-null   int64  \n",
      " 9   prod_inc        1175 non-null   float64\n",
      " 10  sleep_bal       1175 non-null   float64\n",
      " 11  new_skill       1175 non-null   float64\n",
      " 12  fam_connect     1175 non-null   float64\n",
      " 13  relaxed         1175 non-null   float64\n",
      " 14  self_time       1175 non-null   float64\n",
      " 15  like_hw         1175 non-null   int64  \n",
      " 16  dislike_hw      1175 non-null   int64  \n",
      " 17  prefer          1175 non-null   object \n",
      " 18  certaindays_hw  1175 non-null   object \n",
      " 19  Unnamed: 19     0 non-null      float64\n",
      " 20  time_bp.1       1175 non-null   int64  \n",
      " 21  travel+work     0 non-null      float64\n",
      "dtypes: float64(9), int64(7), object(6)\n",
      "memory usage: 202.1+ KB\n"
     ]
    }
   ],
   "source": [
    "df.info()"
   ]
  },
  {
   "cell_type": "markdown",
   "metadata": {},
   "source": [
    "*** Drop the unnecessary columns**"
   ]
  },
  {
   "cell_type": "code",
   "execution_count": 6,
   "metadata": {
    "execution": {
     "iopub.execute_input": "2023-07-30T07:15:52.015879Z",
     "iopub.status.busy": "2023-07-30T07:15:52.015217Z",
     "iopub.status.idle": "2023-07-30T07:15:52.022203Z",
     "shell.execute_reply": "2023-07-30T07:15:52.021085Z",
     "shell.execute_reply.started": "2023-07-30T07:15:52.015843Z"
    }
   },
   "outputs": [],
   "source": [
    "df=df.drop(['Unnamed: 19','time_bp.1','travel+work'],axis=1)"
   ]
  },
  {
   "cell_type": "code",
   "execution_count": 7,
   "metadata": {},
   "outputs": [],
   "source": [
    "threshold = 0.5"
   ]
  },
  {
   "cell_type": "code",
   "execution_count": 8,
   "metadata": {},
   "outputs": [],
   "source": [
    "\n",
    "df['lifestyle_change'] = ((df['prod_inc'].abs() > threshold) |\n",
    "                          (df['sleep_bal'].abs() > threshold) |\n",
    "                          (df['new_skill'].abs() > threshold) |\n",
    "                          (df['fam_connect'].abs() > threshold) |\n",
    "                          (df['relaxed'].abs() > threshold) |\n",
    "                          (df['self_time'].abs() > threshold)).astype(int)"
   ]
  },
  {
   "cell_type": "code",
   "execution_count": 9,
   "metadata": {},
   "outputs": [
    {
     "name": "stdout",
     "output_type": "stream",
     "text": [
      "         age  gender            occupation line_of_work  time_bp  time_dp  \\\n",
      "0      19-25    Male    Student in College          NaN        7        5   \n",
      "1     Dec-18    Male     Student in School          NaN        7       11   \n",
      "2      19-25    Male    Student in College          NaN        7        7   \n",
      "3      19-25    Male    Student in College          NaN        7        7   \n",
      "4      19-25  Female    Student in College          NaN        7        7   \n",
      "...      ...     ...                   ...          ...      ...      ...   \n",
      "1170   40-50  Female          Entrepreneur          NaN        9        9   \n",
      "1171   26-32  Female             Homemaker          NaN        5       12   \n",
      "1172   26-32    Male  Working Professional  Engineering        9       11   \n",
      "1173   26-32    Male  Working Professional  Engineering       11       12   \n",
      "1174   40-50    Male  Working Professional  Engineering        5        5   \n",
      "\n",
      "      travel_time  easeof_online  home_env  prod_inc  sleep_bal  new_skill  \\\n",
      "0             0.5              3         3       0.0        0.0        0.5   \n",
      "1             0.5              4         2      -0.5        0.5       -1.0   \n",
      "2             1.5              2         2       1.0        0.0        0.5   \n",
      "3             1.5              3         1       0.0        1.0        0.5   \n",
      "4             1.5              2         2       0.0        0.0        0.0   \n",
      "...           ...            ...       ...       ...        ...        ...   \n",
      "1170          0.5              2         1       0.5       -0.5       -0.5   \n",
      "1171          0.5              3         5      -0.5       -1.0       -0.5   \n",
      "1172          0.5              3         2       0.5        0.5        0.5   \n",
      "1173          1.5              2         2       0.0        0.0        0.0   \n",
      "1174          0.5              2         2       0.5       -0.5        0.5   \n",
      "\n",
      "      fam_connect  relaxed  self_time  like_hw  dislike_hw  \\\n",
      "0             1.0     -0.5       -0.5      100           1   \n",
      "1             1.0      1.0        1.0     1111        1110   \n",
      "2             0.5      0.5        0.5     1100         111   \n",
      "3             0.0     -1.0       -0.5      100        1111   \n",
      "4             0.0      0.5        0.0     1010        1000   \n",
      "...           ...      ...        ...      ...         ...   \n",
      "1170          0.5      0.0        0.0       10           1   \n",
      "1171          0.0     -0.5       -0.5      100         111   \n",
      "1172          0.5      0.0        0.0     1111         110   \n",
      "1173         -1.0      0.0       -0.5     1111        1100   \n",
      "1174          0.5      0.5        0.5     1100         101   \n",
      "\n",
      "                            prefer certaindays_hw  lifestyle_change  \n",
      "0     Complete Physical Attendance            Yes                 1  \n",
      "1     Complete Physical Attendance             No                 1  \n",
      "2     Complete Physical Attendance            Yes                 1  \n",
      "3     Complete Physical Attendance            Yes                 1  \n",
      "4     Complete Physical Attendance            Yes                 0  \n",
      "...                            ...            ...               ...  \n",
      "1170  Complete Physical Attendance            Yes                 0  \n",
      "1171  Complete Physical Attendance          Maybe                 1  \n",
      "1172  Complete Physical Attendance          Maybe                 0  \n",
      "1173  Complete Physical Attendance            Yes                 1  \n",
      "1174          Work/study from home            Yes                 0  \n",
      "\n",
      "[1175 rows x 20 columns]\n"
     ]
    }
   ],
   "source": [
    "print(df)"
   ]
  },
  {
   "cell_type": "code",
   "execution_count": 10,
   "metadata": {},
   "outputs": [
    {
     "data": {
      "text/plain": [
       "0       1\n",
       "1       1\n",
       "2       1\n",
       "3       1\n",
       "4       0\n",
       "       ..\n",
       "1170    0\n",
       "1171    1\n",
       "1172    0\n",
       "1173    1\n",
       "1174    0\n",
       "Name: lifestyle_change, Length: 1175, dtype: int32"
      ]
     },
     "execution_count": 10,
     "metadata": {},
     "output_type": "execute_result"
    }
   ],
   "source": [
    "df.lifestyle_change "
   ]
  }
 ],
 "metadata": {
  "kaggle": {
   "accelerator": "none",
   "dataSources": [
    {
     "datasetId": 3540688,
     "sourceId": 6172485,
     "sourceType": "datasetVersion"
    }
   ],
   "dockerImageVersionId": 30527,
   "isGpuEnabled": false,
   "isInternetEnabled": false,
   "language": "python",
   "sourceType": "notebook"
  },
  "kernelspec": {
   "display_name": "Python 3 (ipykernel)",
   "language": "python",
   "name": "python3"
  },
  "language_info": {
   "codemirror_mode": {
    "name": "ipython",
    "version": 3
   },
   "file_extension": ".py",
   "mimetype": "text/x-python",
   "name": "python",
   "nbconvert_exporter": "python",
   "pygments_lexer": "ipython3",
   "version": "3.11.5"
  }
 },
 "nbformat": 4,
 "nbformat_minor": 4
}
